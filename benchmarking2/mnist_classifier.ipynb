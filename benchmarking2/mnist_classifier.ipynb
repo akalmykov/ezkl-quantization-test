{
 "cells": [
  {
   "cell_type": "markdown",
   "metadata": {
    "id": "6ypZa6jg0rZy"
   },
   "source": [
    "## Mnist Clan-ssifier ;)\n",
    "\n",
    "Here we demonstrate how to use the EZKL package to build an MNIST classifier for on-chain handrawn digit recognition.\n",
    "The proofs get submitted to a contract that assigns the users account to a digit clan (0-9). The contract keeps track of the member count of each clan. The clan with the most members is the winner!\n",
    "\n",
    "![zk-gaming-diagram-transformed](https://file.notion.so/f/f/f9535faf-4480-4499-9059-a48ba240eaa9/cd13414a-ecd8-4b8f-90a1-8a2311baa278/Untitled.png?id=365d66ee-e653-4ec3-8eb6-6d2b6306455a&table=block&spaceId=f9535faf-4480-4499-9059-a48ba240eaa9&expirationTimestamp=1701568800000&signature=VJ9p3YsOjYjeLxmkVEWOJw_3VmM6IBkTYxMwQUFKeus&downloadName=Untitled.png)\n",
    "\n",
    "> **A typical ZK application flow**. For all the image classifictiton hackers out there — this is an fairly straight forward example. A user computes a ZKML-proof that they have calculated a valid classification of a hand drawn digit from a MNIST trained lenet model. They submit this proof to a verifier contract which governs a set of clans, along with the output values of the model (length 10 tensor whereby the index with the max value represented the prediction), and the clan count updates according the lenets model's prediction.\n"
   ]
  },
  {
   "cell_type": "code",
   "execution_count": 1,
   "metadata": {
    "id": "Fm2DMmXW0rZ0"
   },
   "outputs": [],
   "source": [
    "# check if notebook is in colab\n",
    "try:\n",
    "    # install ezkl\n",
    "    import google.colab\n",
    "    import subprocess\n",
    "    import sys\n",
    "    subprocess.check_call([sys.executable, \"-m\", \"pip\", \"install\", \"ezkl\"])\n",
    "    subprocess.check_call([sys.executable, \"-m\", \"pip\", \"install\", \"torch\"])\n",
    "    subprocess.check_call([sys.executable, \"-m\", \"pip\", \"install\", \"torchvision\"])\n",
    "    subprocess.check_call([sys.executable, \"-m\", \"pip\", \"install\", \"tf2onnx\"])\n",
    "    subprocess.check_call([sys.executable, \"-m\", \"pip\", \"install\", \"onnx\"])\n",
    "\n",
    "# rely on local installation of ezkl if the notebook is not in colab\n",
    "except:\n",
    "    pass\n",
    "\n",
    "# make sure you have the dependencies required here already installed\n",
    "import ezkl\n",
    "import os\n",
    "import json\n",
    "import time\n",
    "import random\n",
    "import logging\n",
    "\n",
    "\n",
    "# uncomment for more descriptive logging\n",
    "FORMAT = '%(levelname)s %(name)s %(asctime)-15s %(filename)s:%(lineno)d %(message)s'\n",
    "logging.basicConfig(format=FORMAT)\n",
    "logging.getLogger().setLevel(logging.INFO)"
   ]
  },
  {
   "cell_type": "code",
   "execution_count": 2,
   "metadata": {
    "id": "jbRkAJLz0rZ1"
   },
   "outputs": [],
   "source": [
    "import torch\n",
    "import torch.nn as nn\n",
    "import torch.nn.functional as F\n",
    "\n",
    "class LeNet(nn.Module):\n",
    "    def __init__(self):\n",
    "        super(LeNet, self).__init__()\n",
    "        # Convolutional encoder\n",
    "        self.conv1 = nn.Conv2d(1, 6, 5)  # 1 input channel, 6 output channels, 5x5 kernel\n",
    "        self.conv2 = nn.Conv2d(6, 16, 5) # 6 input channels, 16 output channels, 5x5 kernel\n",
    "\n",
    "        # Fully connected layers / Dense block\n",
    "        self.fc1 = nn.Linear(16 * 4 * 4, 120) \n",
    "        self.fc2 = nn.Linear(120, 84)         # 120 inputs, 84 outputs\n",
    "        self.fc3 = nn.Linear(84, 10)          # 84 inputs, 10 outputs (number of classes)\n",
    "\n",
    "    def forward(self, x):\n",
    "        # Convolutional block\n",
    "        # x = F.avg_pool2d(F.sigmoid(self.conv1(x)), (2, 2)) # Convolution -> Sigmoid -> Avg Pool\n",
    "        # x = F.avg_pool2d(F.sigmoid(self.conv2(x)), (2, 2)) # Convolution -> Sigmoid -> Avg Pool\n",
    "        x = F.avg_pool2d((self.conv1(x)), (2, 2)) # Convolution -> Sigmoid -> Avg Pool\n",
    "        x = F.avg_pool2d((self.conv2(x)), (2, 2)) # Convolution -> Sigmoid -> Avg Pool\n",
    "\n",
    "        # Flattening\n",
    "        x = x.view(x.size(0), -1)\n",
    "\n",
    "        # Fully connected layers\n",
    "        # x = F.sigmoid(self.fc1(x))\n",
    "        # x = F.sigmoid(self.fc2(x))\n",
    "        x = (self.fc1(x))\n",
    "        x = (self.fc2(x))\n",
    "        x = self.fc3(x)  # No activation function here, will use CrossEntropyLoss later\n",
    "        return x\n"
   ]
  },
  {
   "cell_type": "code",
   "execution_count": 3,
   "metadata": {
    "colab": {
     "base_uri": "https://localhost:8080/"
    },
    "id": "8yYNrvus0rZ2",
    "outputId": "d3ae2380-fa03-4368-9bea-46c38a65ddca"
   },
   "outputs": [
    {
     "name": "stdout",
     "output_type": "stream",
     "text": [
      "test accuracy: 0.889\n",
      "test accuracy: 0.896\n",
      "test accuracy: 0.900\n",
      "test accuracy: 0.903\n",
      "test accuracy: 0.905\n",
      "test accuracy: 0.906\n",
      "test accuracy: 0.907\n",
      "test accuracy: 0.908\n",
      "test accuracy: 0.909\n",
      "test accuracy: 0.909\n",
      "test accuracy: 0.911\n",
      "test accuracy: 0.911\n",
      "test accuracy: 0.912\n",
      "test accuracy: 0.912\n",
      "test accuracy: 0.912\n",
      "test accuracy: 0.913\n",
      "test accuracy: 0.913\n",
      "test accuracy: 0.913\n",
      "test accuracy: 0.913\n",
      "test accuracy: 0.913\n",
      "test accuracy: 0.913\n",
      "test accuracy: 0.913\n",
      "test accuracy: 0.913\n",
      "test accuracy: 0.913\n",
      "test accuracy: 0.914\n"
     ]
    }
   ],
   "source": [
    "import numpy as np\n",
    "import os\n",
    "import torch\n",
    "from torchvision.datasets import mnist\n",
    "from torch.nn import CrossEntropyLoss\n",
    "from torch.optim import Adam  # Import Adam\n",
    "from torch.utils.data import DataLoader\n",
    "from torchvision.transforms import ToTensor\n",
    "\n",
    "def normalize_img(image, label):\n",
    "  return torch.round(image), label\n",
    "\n",
    "device = 'cuda' if torch.cuda.is_available() else 'cpu'\n",
    "batch_size = 256\n",
    "train_dataset = mnist.MNIST(root='./train', train=True, transform=ToTensor(), download=True)\n",
    "test_dataset = mnist.MNIST(root='./test', train=False, transform=ToTensor(), download=True)\n",
    "train_loader = DataLoader(train_dataset, batch_size=batch_size)\n",
    "test_loader = DataLoader(test_dataset, batch_size=batch_size)\n",
    "model = LeNet().to(device)\n",
    "adam = Adam(model.parameters())  # Using Adam with a learning rate of 1e-3\n",
    "loss_fn = CrossEntropyLoss()\n",
    "all_epoch = 25\n",
    "prev_acc = 0\n",
    "for current_epoch in range(all_epoch):\n",
    "    model.train()\n",
    "    for idx, (train_x, train_label) in enumerate(train_loader):\n",
    "        train_x = train_x.to(device)\n",
    "        # normalize the image to 0 or 1 to reflect the inputs from the drawing board\n",
    "        train_x = train_x.round()\n",
    "        train_label = train_label.to(device)\n",
    "        adam.zero_grad()  # Use adam optimizer\n",
    "        predict_y = model(train_x.float())\n",
    "        loss = loss_fn(predict_y, train_label.long())\n",
    "        loss.backward()\n",
    "        adam.step()  # Use adam optimizer\n",
    "    all_correct_num = 0\n",
    "    all_sample_num = 0\n",
    "    model.eval()\n",
    "\n",
    "    for idx, (test_x, test_label) in enumerate(test_loader):\n",
    "        test_x = test_x.to(device)\n",
    "         # normalize the image to 0 or 1 to reflect the inputs from the drawing board\n",
    "        test_x = test_x.round()\n",
    "        test_label = test_label.to(device)\n",
    "        predict_y = model(test_x.float()).detach()\n",
    "        predict_y = torch.argmax(predict_y, dim=-1)\n",
    "        current_correct_num = predict_y == test_label\n",
    "        all_correct_num += np.sum(current_correct_num.to('cpu').numpy(), axis=-1)\n",
    "        all_sample_num += current_correct_num.shape[0]\n",
    "    acc = all_correct_num / all_sample_num\n",
    "    print('test accuracy: {:.3f}'.format(acc), flush=True)\n",
    "    if not os.path.isdir(\"models\"):\n",
    "        os.mkdir(\"models\")\n",
    "    torch.save(model, 'models/mnist_{:.3f}.pkl'.format(acc))\n",
    "    prev_acc = acc\n"
   ]
  },
  {
   "cell_type": "code",
   "execution_count": 26,
   "metadata": {},
   "outputs": [
    {
     "name": "stdout",
     "output_type": "stream",
     "text": [
      "tensor(6.8540e-07, device='cuda:0', grad_fn=<MinBackward1>)\n"
     ]
    },
    {
     "data": {
      "text/plain": [
       "Text(0.5, 1.0, 'Absolute value of parameters')"
      ]
     },
     "execution_count": 26,
     "metadata": {},
     "output_type": "execute_result"
    },
    {
     "data": {
      "image/png": "[encoded data removed]",
      "text/plain": [
       "<Figure size 600x400 with 1 Axes>"
      ]
     },
     "metadata": {},
     "output_type": "display_data"
    }
   ],
   "source": [
    "import matplotlib.pyplot as plt\n",
    "import numpy as np\n",
    "from matplotlib import colors\n",
    "from scipy import stats\n",
    "n_bins = 100\n",
    "# whats the smallest parameter in this model ?\n",
    "minimum_abs_val = 100000\n",
    "params_abs = []\n",
    "for param in model.parameters():\n",
    "  if param.abs().min() < minimum_abs_val:\n",
    "    minimum_abs_val = param.abs().min()\n",
    "  params_abs.extend(param.abs().detach().cpu().numpy().flatten().tolist())\n",
    "\n",
    "print(minimum_abs_val)\n",
    "\n",
    "xx = np.linspace(0, 0.2, 1000)\n",
    "\n",
    "kde = stats.gaussian_kde(params_abs)\n",
    "fig, ax = plt.subplots(figsize = (6,4))\n",
    "\n",
    "ax.set_xlim(0, 0.2)\n",
    "\n",
    "# N is the count in each bin, bins is the lower-limit of the bin\n",
    "N, bins, patches = ax.hist(params_abs, bins=n_bins, density = True, alpha =0.65)\n",
    "ax.plot(xx, kde(xx))\n",
    "\n",
    "\n",
    "ax.set_ylim(0, 14)\n",
    "ax.set_yticklabels([])\n",
    "ax.set_ylabel(\"\")\n",
    "plt.style.use(\"bmh\")\n",
    "ax.set_xticks([1.0/128.0, 1.0/32.0, 1.0/16.0])\n",
    "ax.set_xticklabels([\"1/2^7\", \"1/2^6\", \"1/2^5\"])\n",
    "ax.grid(False)\n",
    "# Calculate percentiles\n",
    "quant_5, quant_25, quant_50, quant_75, quant_95 = np.quantile(params_abs, 0.05), np.quantile(params_abs, 0.25), np.quantile(params_abs, 0.5), np.quantile(params_abs, 0.75), np.quantile(params_abs, 0.95)\n",
    "\n",
    "# [quantile, opacity, length]\n",
    "quants = [[quant_5, 0.6, 0.16], [quant_25, 0.8, 0.26], [quant_50, 1, 0.36],  [quant_75, 0.8, 0.46], [quant_95, 0.6, 0.56]]\n",
    "\n",
    "# Plot the lines with a loop\n",
    "for i in quants:\n",
    "    ax.axvline(i[0], alpha = i[1], ymax = i[2], linestyle = \":\")\n",
    "\n",
    "# Annotations\n",
    "ax.text(quant_5, 14 * 0.17, \"5th\", size = 10, alpha = 0.8)\n",
    "ax.text(quant_25, 14 * 0.27, \"25th\", size = 10, alpha = 0.85)\n",
    "ax.text(quant_50, 14 * 0.37, \"50th\", size = 10, alpha = 1)\n",
    "ax.text(quant_75, 14 * 0.47, \"75th\", size = 10, alpha = 0.85)\n",
    "ax.text(quant_95, 14 * 0.57, \"95th Percentile\", size = 10, alpha =.8)\n",
    "\n",
    "ax.set_title(\"Absolute value of parameters\")"
   ]
  },
  {
   "cell_type": "code",
   "execution_count": 4,
   "metadata": {
    "id": "tmGo25eb0rZ3"
   },
   "outputs": [],
   "source": [
    "import os\n",
    "\n",
    "model_path = os.path.join('network_lenet.onnx')\n",
    "compiled_model_path = os.path.join('network.compiled')\n",
    "pk_path = os.path.join('key.pk')\n",
    "vk_path = os.path.join('key.vk')\n",
    "settings_path = os.path.join('settings.json')\n",
    "witness_path = os.path.join('witness.json')\n",
    "data_path = os.path.join('input.json')"
   ]
  },
  {
   "cell_type": "code",
   "execution_count": 5,
   "metadata": {
    "id": "RfFjaXrM0rZ3"
   },
   "outputs": [
    {
     "name": "stdout",
     "output_type": "stream",
     "text": [
      "Model exported to network_lenet.onnx and input data saved to input.json\n"
     ]
    }
   ],
   "source": [
    "import torch\n",
    "import json\n",
    "\n",
    "model.eval()  # Set the model to evaluation mode\n",
    "\n",
    "# # Fetch a single data point from the train_dataset\n",
    "# # Ensure train_dataset is already loaded and accessible\n",
    "train_data_point, _ = next(iter(train_dataset))\n",
    "train_data_point = train_data_point.unsqueeze(0)  # Add a batch dimension\n",
    "\n",
    "# Verify the device (CPU or CUDA) and transfer the data point to the same device as the model\n",
    "device = 'cuda' if torch.cuda.is_available() else 'cpu'\n",
    "train_data_point = train_data_point.to(device)\n",
    "\n",
    "# # Export the model to ONNX format\n",
    "torch.onnx.export(model, train_data_point, model_path, export_params=True, opset_version=12, do_constant_folding=True, input_names=['input_0'], output_names=['output'])\n",
    "\n",
    "# Convert the tensor to numpy array and reshape it for JSON serialization\n",
    "x = train_data_point.cpu().detach().numpy().reshape([-1]).tolist()\n",
    "data = {'input_data': [x]}\n",
    "with open('input.json', 'w') as f:\n",
    "    json.dump(data, f)\n",
    "\n",
    "print(f\"Model exported to {model_path} and input data saved to input.json\")"
   ]
  },
  {
   "cell_type": "code",
   "execution_count": 29,
   "metadata": {
    "id": "dS-yXte30rZ3"
   },
   "outputs": [
    {
     "name": "stderr",
     "output_type": "stream",
     "text": [
      "INFO ezkl.execute 2024-06-22 22:04:02,034 execute.rs:1037 num calibration batches: 8\n",
      "WARNING ezkl.circuit.table 2024-06-22 22:04:11,904 table.rs:165 Using 2 columns for non-linearity table.\n",
      "WARNING ezkl.circuit.table 2024-06-22 22:04:11,906 table.rs:165 Using 2 columns for non-linearity table.\n",
      "WARNING ezkl.circuit.table 2024-06-22 22:04:11,908 table.rs:165 Using 4 columns for non-linearity table.\n",
      "WARNING ezkl.circuit.table 2024-06-22 22:04:11,909 table.rs:165 Using 4 columns for non-linearity table.\n",
      "WARNING ezkl.circuit.table 2024-06-22 22:04:11,911 table.rs:165 Using 4 columns for non-linearity table.\n",
      "WARNING ezkl.circuit.table 2024-06-22 22:04:11,913 table.rs:165 Using 4 columns for non-linearity table.\n",
      "WARNING ezkl.circuit.table 2024-06-22 22:04:20,015 table.rs:165 Using 2 columns for non-linearity table.\n",
      "WARNING ezkl.circuit.table 2024-06-22 22:04:20,017 table.rs:165 Using 4 columns for non-linearity table.\n",
      "WARNING ezkl.circuit.table 2024-06-22 22:04:20,021 table.rs:165 Using 4 columns for non-linearity table.\n",
      "WARNING ezkl.execute 2024-06-22 22:04:23,772 execute.rs:1356 \n",
      "\n",
      " <------------- Numerical Fidelity Report (input_scale: 2, param_scale: 2, scale_input_multiplier: 10) ------------->\n",
      "\n",
      "+------------+--------------+-----------+-----------+----------------+------------------+---------------+---------------+--------------------+--------------------+------------------------+\n",
      "| mean_error | median_error | max_error | min_error | mean_abs_error | median_abs_error | max_abs_error | min_abs_error | mean_squared_error | mean_percent_error | mean_abs_percent_error |\n",
      "+------------+--------------+-----------+-----------+----------------+------------------+---------------+---------------+--------------------+--------------------+------------------------+\n",
      "| 0.35419542 | -2.044382    | 9.007977  | -6.869586 | 2.5025325      | 2.044382         | 9.007977      | 0.036379337   | 10.375633          | 0.3507718          | 0.93905294             |\n",
      "+------------+--------------+-----------+-----------+----------------+------------------+---------------+---------------+--------------------+--------------------+------------------------+\n",
      "\n",
      "\n"
     ]
    }
   ],
   "source": [
    "import ezkl\n",
    "\n",
    "run_args = ezkl.PyRunArgs()\n",
    "run_args.input_visibility = \"private\"\n",
    "run_args.param_visibility = \"fixed\"\n",
    "run_args.output_visibility = \"public\"\n",
    "run_args.num_inner_cols = 2\n",
    "run_args.input_scale = 4\n",
    "run_args.param_scale = 4\n",
    "run_args.variables = [(\"batch_size\", 1)]\n",
    "\n",
    "# Capture set of data points\n",
    "num_data_points = 8\n",
    "\n",
    "# Fetch 30 data points from the train_dataset\n",
    "data_points = []\n",
    "for i, (data_point, _) in enumerate(train_dataset):\n",
    "    if i >= num_data_points:\n",
    "        break\n",
    "    data_points.append(data_point)\n",
    "\n",
    "# Stack the data points to create a batch\n",
    "train_data_batch = torch.stack(data_points)\n",
    "\n",
    "# Add a batch dimension if not already present\n",
    "if train_data_batch.dim() == 3:\n",
    "    train_data_batch = train_data_batch.unsqueeze(0)\n",
    "\n",
    "x = train_data_batch.cpu().detach().numpy().reshape([-1]).tolist()\n",
    "\n",
    "data = dict(input_data = [x])\n",
    "\n",
    "cal_path = os.path.join('cal_data.json')\n",
    "\n",
    "# Serialize data into file:\n",
    "json.dump( data, open(cal_path, 'w' ))\n",
    "\n",
    "!RUST_LOG=trace\n",
    "# TODO: Dictionary outputs\n",
    "res = ezkl.gen_settings(model_path, settings_path, py_run_args=run_args)\n",
    "assert res == True\n",
    "\n",
    "res = await ezkl.calibrate_settings(cal_path, model_path, settings_path, \"resources\", scales=[2,7])\n",
    "assert res == True"
   ]
  },
  {
   "cell_type": "code",
   "execution_count": 29,
   "metadata": {
    "id": "pGb1nj720rZ3"
   },
   "outputs": [],
   "source": [
    "res = ezkl.compile_circuit(model_path, compiled_model_path, settings_path)\n",
    "assert res == True"
   ]
  },
  {
   "cell_type": "code",
   "execution_count": 30,
   "metadata": {
    "id": "umpLxVAI0rZ3"
   },
   "outputs": [
    {
     "name": "stderr",
     "output_type": "stream",
     "text": [
      "INFO ezkl.execute 2024-06-21 22:30:09,310 execute.rs:741 SRS already exists at that path\n",
      "INFO ezkl.execute 2024-06-21 22:30:09,321 execute.rs:639 read 16777476 bytes from file (vector of len = 16777476)\n",
      "INFO ezkl.execute 2024-06-21 22:30:09,333 execute.rs:646 file hash: 41509f380362a8d14401c5ae92073154922fe23e45459ce6f696f58607655db7\n"
     ]
    }
   ],
   "source": [
    "# srs path\n",
    "res = await ezkl.get_srs(settings_path)"
   ]
  },
  {
   "cell_type": "code",
   "execution_count": 31,
   "metadata": {
    "id": "syLy2Kt90rZ3"
   },
   "outputs": [],
   "source": [
    "# now generate the witness file\n",
    "witness_path = \"witness.json\"\n",
    "\n",
    "res = await ezkl.gen_witness(data_path, compiled_model_path, witness_path)\n",
    "assert os.path.isfile(witness_path)"
   ]
  },
  {
   "cell_type": "code",
   "execution_count": 32,
   "metadata": {
    "id": "65u_ObBQ0rZ4"
   },
   "outputs": [
    {
     "name": "stderr",
     "output_type": "stream",
     "text": [
      "INFO ezkl.execute 2024-06-21 22:30:12,118 execute.rs:1403 Mock proof\n",
      "INFO ezkl.graph.model 2024-06-21 22:30:12,180 model.rs:1097 model layout...\n"
     ]
    }
   ],
   "source": [
    "res = ezkl.mock(witness_path, compiled_model_path)\n",
    "assert res == True"
   ]
  },
  {
   "cell_type": "code",
   "execution_count": 33,
   "metadata": {
    "id": "c8GIoMD40rZ4"
   },
   "outputs": [
    {
     "name": "stderr",
     "output_type": "stream",
     "text": [
      "INFO ezkl.graph.model 2024-06-21 22:30:18,435 model.rs:1097 model layout...\n",
      "INFO ezkl.pfsys 2024-06-21 22:30:27,205 mod.rs:520 VK took 8.788\n",
      "INFO ezkl.graph.model 2024-06-21 22:30:27,224 model.rs:1097 model layout...\n",
      "INFO ezkl.pfsys 2024-06-21 22:30:34,653 mod.rs:526 PK took 7.446\n",
      "INFO ezkl.pfsys 2024-06-21 22:30:34,657 mod.rs:844 done saving verification key ✅\n",
      "INFO ezkl.pfsys 2024-06-21 22:30:37,110 mod.rs:827 done saving proving key ✅\n"
     ]
    }
   ],
   "source": [
    "\n",
    "# HERE WE SETUP THE CIRCUIT PARAMS\n",
    "# WE GOT KEYS\n",
    "# WE GOT CIRCUIT PARAMETERS\n",
    "# EVERYTHING ANYONE HAS EVER NEEDED FOR ZK\n",
    "\n",
    "res = ezkl.setup(\n",
    "        compiled_model_path,\n",
    "        vk_path,\n",
    "        pk_path,\n",
    "    )\n",
    "\n",
    "assert res == True\n",
    "assert os.path.isfile(vk_path)\n",
    "assert os.path.isfile(pk_path)\n",
    "assert os.path.isfile(settings_path)"
   ]
  },
  {
   "cell_type": "code",
   "execution_count": 34,
   "metadata": {
    "id": "vkIutAhR0rZ4"
   },
   "outputs": [
    {
     "name": "stderr",
     "output_type": "stream",
     "text": [
      "INFO ezkl.pfsys 2024-06-21 22:30:44,709 mod.rs:810 loaded proving key ✅\n",
      "INFO ezkl.pfsys 2024-06-21 22:30:44,729 mod.rs:581 proof started...\n",
      "INFO ezkl.graph.model 2024-06-21 22:30:44,777 model.rs:1097 model layout...\n",
      "INFO ezkl.pfsys 2024-06-21 22:31:12,944 mod.rs:620 proof took 28.213\n"
     ]
    },
    {
     "name": "stdout",
     "output_type": "stream",
     "text": [
      "{'instances': [['43afffef93f5e1439170b97948e833285d588181b64550b829a031e1724e6430', '64d0ffef93f5e1439170b97948e833285d588181b64550b829a031e1724e6430', '40b4ffef93f5e1439170b97948e833285d588181b64550b829a031e1724e6430', '2a53000000000000000000000000000000000000000000000000000000000000', '087cffef93f5e1439170b97948e833285d588181b64550b829a031e1724e6430', '2e6e000000000000000000000000000000000000000000000000000000000000', 'b9a9ffef93f5e1439170b97948e833285d588181b64550b829a031e1724e6430', '06cfffef93f5e1439170b97948e833285d588181b64550b829a031e1724e6430', '33e4ffef93f5e1439170b97948e833285d588181b64550b829a031e1724e6430', '7eeeffef93f5e1439170b97948e833285d588181b64550b829a031e1724e6430']], 'proof': '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', 'transcript_type': 'EVM'}\n"
     ]
    }
   ],
   "source": [
    "# GENERATE A PROOF\n",
    "\n",
    "\n",
    "proof_path = os.path.join('test.pf')\n",
    "\n",
    "res = ezkl.prove(\n",
    "        witness_path,\n",
    "        compiled_model_path,\n",
    "        pk_path,\n",
    "        proof_path,\n",
    "        \"single\",\n",
    "    )\n",
    "\n",
    "print(res)\n",
    "assert os.path.isfile(proof_path)"
   ]
  },
  {
   "cell_type": "code",
   "execution_count": 15,
   "metadata": {
    "id": "KmpQBZUT0rZ4"
   },
   "outputs": [
    {
     "name": "stderr",
     "output_type": "stream",
     "text": [
      "INFO ezkl.pfsys 2024-06-21 21:55:18,453 mod.rs:787 loaded verification key ✅\n",
      "INFO ezkl.execute 2024-06-21 21:55:18,462 execute.rs:2453 verify took 0.6\n",
      "INFO ezkl.execute 2024-06-21 21:55:18,463 execute.rs:2458 verified: true\n"
     ]
    },
    {
     "name": "stdout",
     "output_type": "stream",
     "text": [
      "verified\n"
     ]
    }
   ],
   "source": [
    "# VERIFY IT\n",
    "res = ezkl.verify(\n",
    "        proof_path,\n",
    "        settings_path,\n",
    "        vk_path,\n",
    "    )\n",
    "\n",
    "assert res == True\n",
    "print(\"verified\")"
   ]
  },
  {
   "cell_type": "markdown",
   "metadata": {
    "id": "CZ2CYQdm0rZ4"
   },
   "source": [
    "We can now create an EVM / `.sol` verifier that can be deployed on chain to verify submitted proofs using a view function.\n"
   ]
  },
  {
   "cell_type": "code",
   "execution_count": null,
   "metadata": {
    "id": "jASymUWQ0rZ4"
   },
   "outputs": [],
   "source": [
    "\n",
    "abi_path = 'test.abi'\n",
    "sol_code_path = 'test_1.sol'\n",
    "\n",
    "res = await ezkl.create_evm_verifier(\n",
    "        vk_path,\n",
    "        settings_path,\n",
    "        sol_code_path,\n",
    "        abi_path,\n",
    "    )\n",
    "assert res == True"
   ]
  },
  {
   "cell_type": "markdown",
   "metadata": {
    "id": "-icN2yw60rZ5"
   },
   "source": [
    "## Proof generation time\n"
   ]
  },
  {
   "cell_type": "code",
   "execution_count": 14,
   "metadata": {
    "id": "sTLsLwaC0rZ5"
   },
   "outputs": [],
   "source": [
    "run_args = ezkl.PyRunArgs()\n",
    "run_args.num_inner_cols = 2\n",
    "run_args.input_visibility = \"private\"\n",
    "run_args.param_visibility = \"fixed\"\n",
    "run_args.output_visibility = \"public\"\n",
    "run_args.input_scale = 12\n",
    "run_args.param_scale = run_args.input_scale\n",
    "run_args.variables = [(\"batch_size\", 1)]\n",
    "\n",
    "# Capture set of data points\n",
    "num_data_points = 8\n",
    "\n",
    "# Fetch 30 data points from the train_dataset\n",
    "data_points = []\n",
    "for i, (data_point, _) in enumerate(train_dataset):\n",
    "    if i >= num_data_points:\n",
    "        break\n",
    "    data_points.append(data_point)\n",
    "\n",
    "# Stack the data points to create a batch\n",
    "train_data_batch = torch.stack(data_points)\n",
    "\n",
    "# Add a batch dimension if not already present\n",
    "if train_data_batch.dim() == 3:\n",
    "    train_data_batch = train_data_batch.unsqueeze(0)\n",
    "\n",
    "x = train_data_batch.cpu().detach().numpy().reshape([-1]).tolist()\n",
    "\n",
    "data = dict(input_data = [x])\n",
    "\n",
    "cal_path = os.path.join('cal_data.json')\n",
    "\n",
    "# Serialize data into file:\n",
    "json.dump( data, open(cal_path, 'w' ))\n",
    "\n",
    "!RUST_LOG=trace\n",
    "# TODO: Dictionary outputs\n",
    "res = ezkl.gen_settings(model_path, settings_path, py_run_args=run_args)\n",
    "assert res == True\n",
    "\n",
    "res = await ezkl.calibrate_settings(cal_path, model_path, settings_path, \"resources\", scales=[run_args.input_scale])\n",
    "# res = await ezkl.calibrate_settings(cal_path, model_path, settings_path, \"resources\")\n",
    "assert res == True\n",
    "\n",
    "res = ezkl.compile_circuit(model_path, compiled_model_path, settings_path)\n",
    "assert res == True\n",
    "\n",
    "res = await ezkl.get_srs(settings_path)\n",
    "assert res == True\n",
    "\n",
    "witness_path = \"witness.json\"\n",
    "# INFO ezkl.pfsys 2024-06-21 21:54:54,053 mod.rs:620 proof took 25.344\n",
    "\n",
    "\n",
    "res = await ezkl.gen_witness(data_path, compiled_model_path, witness_path)\n",
    "assert os.path.isfile(witness_path)\n",
    "\n",
    "res = ezkl.setup(\n",
    "        compiled_model_path,\n",
    "        vk_path,\n",
    "        pk_path,\n",
    "    )\n",
    "\n",
    "assert res == True\n",
    "assert os.path.isfile(vk_path)\n",
    "assert os.path.isfile(pk_path)\n",
    "assert os.path.isfile(settings_path)\n",
    "print(f\"!!pk size = {os.path.getsize(pk_path) / (1024*1024)}\")\n",
    "print(f\"!!vk size = {os.path.getsize(vk_path) / (1024*1024)}\")\n",
    "\n",
    "\n",
    "proof_path = os.path.join('test.pf')\n",
    "\n",
    "res = ezkl.prove(\n",
    "        witness_path,\n",
    "        compiled_model_path,\n",
    "        pk_path,\n",
    "        proof_path,\n",
    "        \"single\",\n",
    "    )\n",
    "\n",
    "print(res)\n",
    "assert os.path.isfile(proof_path)\n",
    "\n",
    "res = ezkl.verify(\n",
    "        proof_path,\n",
    "        settings_path,\n",
    "        vk_path,\n",
    "    )\n",
    "\n",
    "assert res == True\n",
    "print(\"verified\")"
   ]
  },
  {
   "cell_type": "code",
   "execution_count": null,
   "metadata": {},
   "outputs": [],
   "source": []
  }
 ],
 "metadata": {
  "colab": {
   "provenance": []
  },
  "kernelspec": {
   "display_name": "Python 3",
   "language": "python",
   "name": "python3"
  },
  "language_info": {
   "codemirror_mode": {
    "name": "ipython",
    "version": 3
   },
   "file_extension": ".py",
   "mimetype": "text/x-python",
   "name": "python",
   "nbconvert_exporter": "python",
   "pygments_lexer": "ipython3",
   "version": "3.10.12"
  }
 },
 "nbformat": 4,
 "nbformat_minor": 0
}
