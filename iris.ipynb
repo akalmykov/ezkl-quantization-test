{
 "cells": [
  {
   "cell_type": "code",
   "execution_count": 2,
   "metadata": {},
   "outputs": [
    {
     "name": "stderr",
     "output_type": "stream",
     "text": [
      "/home/lexx/code/ezkl_test/.venv/lib/python3.10/site-packages/sklearn/neural_network/_multilayer_perceptron.py:690: ConvergenceWarning: Stochastic Optimizer: Maximum iterations (200) reached and the optimization hasn't converged yet.\n",
      "  warnings.warn(\n"
     ]
    }
   ],
   "source": [
    "import json\n",
    "import numpy as np\n",
    "from sklearn.datasets import load_iris\n",
    "from sklearn.model_selection import train_test_split\n",
    "from sklearn.neural_network import MLPClassifier\n",
    "from hummingbird.ml import convert\n",
    "import torch\n",
    "import ezkl\n",
    "import os\n",
    "\n",
    "\n",
    "\n",
    "iris = load_iris()\n",
    "X, y = iris.data, iris.target\n",
    "X = X.astype(np.float32)\n",
    "X_train, X_test, y_train, y_test = train_test_split(X, y)\n",
    "clr = MLPClassifier()\n",
    "clr.fit(X_train, y_train)\n",
    "\n",
    "circuit = convert(clr, \"torch\", X_test[:1]).model\n"
   ]
  },
  {
   "cell_type": "code",
   "execution_count": 4,
   "metadata": {},
   "outputs": [],
   "source": [
    "model_path = os.path.join('network.onnx')\n",
    "compiled_model_path = os.path.join('network.compiled')\n",
    "pk_path = os.path.join('test.pk')\n",
    "vk_path = os.path.join('test.vk')\n",
    "settings_path = os.path.join('settings.json')\n",
    "\n",
    "witness_path = os.path.join('witness.json')\n",
    "data_path = os.path.join('input.json')\n"
   ]
  },
  {
   "cell_type": "code",
   "execution_count": 5,
   "metadata": {},
   "outputs": [],
   "source": [
    "# export to onnx format\n",
    "# !!!!!!!!!!!!!!!!! This will flash a warning but it is fine !!!!!!!!!!!!!!!!!!!!!\n",
    "\n",
    "# Input to the model\n",
    "shape = X_train.shape[1:]\n",
    "x = torch.rand(1, *shape, requires_grad=True)\n",
    "torch_out = circuit(x)\n",
    "# Export the model\n",
    "torch.onnx.export(circuit,               # model being run\n",
    "                  # model input (or a tuple for multiple inputs)\n",
    "                  x,\n",
    "                  # where to save the model (can be a file or file-like object)\n",
    "                  \"network.onnx\",\n",
    "                  export_params=True,        # store the trained parameter weights inside the model file\n",
    "                  opset_version=10,          # the ONNX version to export the model to\n",
    "                  do_constant_folding=True,  # whether to execute constant folding for optimization\n",
    "                  input_names=['input'],   # the model's input names\n",
    "                  output_names=['output'],  # the model's output names\n",
    "                  dynamic_axes={'input': {0: 'batch_size'},    # variable length axes\n",
    "                                'output': {0: 'batch_size'}})\n",
    "\n",
    "d = ((x).detach().numpy()).reshape([-1]).tolist()\n",
    "\n",
    "data = dict(input_shapes=[shape],\n",
    "            input_data=[d],\n",
    "            output_data=[((o).detach().numpy()).reshape([-1]).tolist() for o in torch_out])\n",
    "\n",
    "# Serialize data into file:\n",
    "json.dump(data, open(\"input.json\", 'w'))\n"
   ]
  },
  {
   "cell_type": "code",
   "execution_count": 6,
   "metadata": {},
   "outputs": [],
   "source": [
    "!RUST_LOG=trace\n",
    "# TODO: Dictionary outputs\n",
    "res = ezkl.gen_settings(model_path, settings_path)\n",
    "assert res == True\n"
   ]
  },
  {
   "cell_type": "code",
   "execution_count": 7,
   "metadata": {},
   "outputs": [
    {
     "name": "stderr",
     "output_type": "stream",
     "text": [
      "Using 2 columns for non-linearity table.\n",
      "Using 2 columns for non-linearity table.\n",
      "Using 2 columns for non-linearity table.\n",
      "Using 2 columns for non-linearity table.\n",
      "Using 2 columns for non-linearity table.\n",
      "Using 2 columns for non-linearity table.\n",
      "Using 2 columns for non-linearity table.\n",
      "Using 2 columns for non-linearity table.\n",
      "Using 2 columns for non-linearity table.\n",
      "Using 2 columns for non-linearity table.\n",
      "Using 2 columns for non-linearity table.\n",
      "Using 2 columns for non-linearity table.\n",
      "Using 2 columns for non-linearity table.\n",
      "Using 2 columns for non-linearity table.\n",
      "Using 2 columns for non-linearity table.\n",
      "Using 2 columns for non-linearity table.\n",
      "Using 3 columns for non-linearity table.\n",
      "Using 3 columns for non-linearity table.\n",
      "Using 3 columns for non-linearity table.\n",
      "Using 3 columns for non-linearity table.\n",
      "Using 3 columns for non-linearity table.\n",
      "Using 5 columns for non-linearity table.\n",
      "Using 5 columns for non-linearity table.\n",
      "Using 5 columns for non-linearity table.\n",
      "Using 5 columns for non-linearity table.\n",
      "Using 5 columns for non-linearity table.\n",
      "Using 5 columns for non-linearity table.\n",
      "Using 5 columns for non-linearity table.\n",
      "Using 5 columns for non-linearity table.\n",
      "Using 5 columns for non-linearity table.\n",
      "Using 5 columns for non-linearity table.\n",
      "Using 4 columns for non-linearity table.\n",
      "Using 4 columns for non-linearity table.\n",
      "Using 4 columns for non-linearity table.\n",
      "Using 8 columns for non-linearity table.\n",
      "Using 8 columns for non-linearity table.\n",
      "Using 8 columns for non-linearity table.\n",
      "Using 2 columns for non-linearity table.\n",
      "Using 2 columns for non-linearity table.\n",
      "Using 2 columns for non-linearity table.\n",
      "Using 2 columns for non-linearity table.\n",
      "Using 2 columns for non-linearity table.\n",
      "Using 2 columns for non-linearity table.\n",
      "Using 2 columns for non-linearity table.\n",
      "Using 2 columns for non-linearity table.\n",
      "Using 2 columns for non-linearity table.\n",
      "Using 2 columns for non-linearity table.\n",
      "Using 2 columns for non-linearity table.\n",
      "Using 2 columns for non-linearity table.\n",
      "Using 2 columns for non-linearity table.\n",
      "Using 2 columns for non-linearity table.\n",
      "Using 3 columns for non-linearity table.\n",
      "Using 3 columns for non-linearity table.\n",
      "Using 3 columns for non-linearity table.\n",
      "Using 3 columns for non-linearity table.\n",
      "Using 3 columns for non-linearity table.\n",
      "Using 5 columns for non-linearity table.\n",
      "Using 5 columns for non-linearity table.\n",
      "Using 5 columns for non-linearity table.\n",
      "Using 5 columns for non-linearity table.\n",
      "Using 5 columns for non-linearity table.\n",
      "Using 5 columns for non-linearity table.\n",
      "Using 5 columns for non-linearity table.\n",
      "Using 5 columns for non-linearity table.\n",
      "Using 5 columns for non-linearity table.\n",
      "Using 5 columns for non-linearity table.\n",
      "Using 4 columns for non-linearity table.\n",
      "Using 4 columns for non-linearity table.\n",
      "Using 4 columns for non-linearity table.\n",
      "Using 8 columns for non-linearity table.\n",
      "Using 8 columns for non-linearity table.\n",
      "Using 8 columns for non-linearity table.\n",
      "Using 3 columns for non-linearity table.\n",
      "Using 3 columns for non-linearity table.\n",
      "Using 3 columns for non-linearity table.\n",
      "Using 3 columns for non-linearity table.\n",
      "Using 5 columns for non-linearity table.\n",
      "Using 5 columns for non-linearity table.\n",
      "Using 5 columns for non-linearity table.\n",
      "Using 5 columns for non-linearity table.\n",
      "Using 5 columns for non-linearity table.\n",
      "Using 5 columns for non-linearity table.\n",
      "Using 5 columns for non-linearity table.\n",
      "Using 5 columns for non-linearity table.\n",
      "Using 4 columns for non-linearity table.\n",
      "Using 4 columns for non-linearity table.\n",
      "Using 4 columns for non-linearity table.\n",
      "Using 8 columns for non-linearity table.\n",
      "Using 8 columns for non-linearity table.\n",
      "Using 8 columns for non-linearity table.\n",
      "\n",
      "\n",
      " <------------- Numerical Fidelity Report (input_scale: 11, param_scale: 11, scale_input_multiplier: 1) ------------->\n",
      "\n",
      "+-------------+--------------+-----------+--------------+----------------+------------------+---------------+---------------+--------------------+--------------------+------------------------+\n",
      "| mean_error  | median_error | max_error | min_error    | mean_abs_error | median_abs_error | max_abs_error | min_abs_error | mean_squared_error | mean_percent_error | mean_abs_percent_error |\n",
      "+-------------+--------------+-----------+--------------+----------------+------------------+---------------+---------------+--------------------+--------------------+------------------------+\n",
      "| 0.012487791 | 0            | 1         | -0.000392735 | 0.012601447    | 0                | 1             | 0             | 0.012500016        | 0.006245711        | 0.0065751313           |\n",
      "+-------------+--------------+-----------+--------------+----------------+------------------+---------------+---------------+--------------------+--------------------+------------------------+\n",
      "\n",
      "\n"
     ]
    },
    {
     "data": {
      "text/plain": [
       "True"
      ]
     },
     "execution_count": 7,
     "metadata": {},
     "output_type": "execute_result"
    }
   ],
   "source": [
    "cal_path = os.path.join(\"calibration.json\")\n",
    "\n",
    "data_array = (torch.rand(20, *shape, requires_grad=True).detach().numpy()).reshape([-1]).tolist()\n",
    "\n",
    "data = dict(input_data = [data_array])\n",
    "\n",
    "# Serialize data into file:\n",
    "json.dump(data, open(cal_path, 'w'))\n",
    "\n",
    "\n",
    "await ezkl.calibrate_settings(cal_path, model_path, settings_path, \"resources\")\n"
   ]
  },
  {
   "cell_type": "code",
   "execution_count": 8,
   "metadata": {},
   "outputs": [],
   "source": [
    "res = ezkl.compile_circuit(model_path, compiled_model_path, settings_path)\n",
    "assert res == True\n"
   ]
  },
  {
   "cell_type": "code",
   "execution_count": 9,
   "metadata": {},
   "outputs": [],
   "source": [
    "# srs path\n",
    "res = await ezkl.get_srs( settings_path)\n"
   ]
  },
  {
   "cell_type": "code",
   "execution_count": 10,
   "metadata": {},
   "outputs": [],
   "source": [
    "# now generate the witness file \n",
    "\n",
    "res = await ezkl.gen_witness(data_path, compiled_model_path, witness_path)\n",
    "assert os.path.isfile(witness_path)\n"
   ]
  },
  {
   "cell_type": "code",
   "execution_count": 11,
   "metadata": {},
   "outputs": [],
   "source": [
    "# HERE WE SETUP THE CIRCUIT PARAMS\n",
    "# WE GOT KEYS\n",
    "# WE GOT CIRCUIT PARAMETERS\n",
    "# EVERYTHING ANYONE HAS EVER NEEDED FOR ZK\n",
    "\n",
    "\n",
    "\n",
    "res = ezkl.setup(\n",
    "        compiled_model_path,\n",
    "        vk_path,\n",
    "        pk_path,\n",
    "        \n",
    "    )\n",
    "\n",
    "assert res == True\n",
    "assert os.path.isfile(vk_path)\n",
    "assert os.path.isfile(pk_path)\n",
    "assert os.path.isfile(settings_path)\n"
   ]
  },
  {
   "cell_type": "code",
   "execution_count": 12,
   "metadata": {},
   "outputs": [
    {
     "name": "stdout",
     "output_type": "stream",
     "text": [
      "{'instances': [['0200000000000000000000000000000000000000000000000000000000000000', 'ee01000000000000000000000000000000000000000000000000000000000000', 'c402000000000000000000000000000000000000000000000000000000000000', '4e03000000000000000000000000000000000000000000000000000000000000']], 'proof': '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', 'transcript_type': 'EVM'}\n"
     ]
    }
   ],
   "source": [
    "# GENERATE A PROOF\n",
    "\n",
    "\n",
    "proof_path = os.path.join('test.pf')\n",
    "\n",
    "res = ezkl.prove(\n",
    "        witness_path,\n",
    "        compiled_model_path,\n",
    "        pk_path,\n",
    "        proof_path,\n",
    "        \n",
    "        \"single\",\n",
    "    )\n",
    "\n",
    "print(res)\n",
    "assert os.path.isfile(proof_path)\n"
   ]
  },
  {
   "cell_type": "code",
   "execution_count": 13,
   "metadata": {},
   "outputs": [
    {
     "name": "stdout",
     "output_type": "stream",
     "text": [
      "verified\n"
     ]
    }
   ],
   "source": [
    "# VERIFY IT\n",
    "\n",
    "res = ezkl.verify(\n",
    "        proof_path,\n",
    "        settings_path,\n",
    "        vk_path,\n",
    "        \n",
    "    )\n",
    "\n",
    "assert res == True\n",
    "print(\"verified\")"
   ]
  },
  {
   "cell_type": "code",
   "execution_count": 3,
   "metadata": {},
   "outputs": [],
   "source": [
    "# export to onnx format\n",
    "# !!!!!!!!!!!!!!!!! This will flash a warning but it is fine !!!!!!!!!!!!!!!!!!!!!\n",
    "\n",
    "for i in range(3000):\n",
    "  # Input to the model\n",
    "  shape = X_train.shape[1:]\n",
    "  x = torch.rand(1, *shape, requires_grad=True)\n",
    "  torch_out = circuit(x)\n",
    "  # Export the model\n",
    "  # torch.onnx.export(circuit,               # model being run\n",
    "  #                   # model input (or a tuple for multiple inputs)\n",
    "  #                   x,\n",
    "  #                   # where to save the model (can be a file or file-like object)\n",
    "  #                   \"network.onnx\",\n",
    "  #                   export_params=True,        # store the trained parameter weights inside the model file\n",
    "  #                   opset_version=10,          # the ONNX version to export the model to\n",
    "  #                   do_constant_folding=True,  # whether to execute constant folding for optimization\n",
    "  #                   input_names=['input'],   # the model's input names\n",
    "  #                   output_names=['output'],  # the model's output names\n",
    "  #                   dynamic_axes={'input': {0: 'batch_size'},    # variable length axes\n",
    "  #                                 'output': {0: 'batch_size'}})\n",
    "\n",
    "  d = ((x).detach().numpy()).reshape([-1]).tolist()\n",
    "\n",
    "  data = dict(input_shapes=[shape],\n",
    "              input_data=[d],\n",
    "              output_data=[((o).detach().numpy()).reshape([-1]).tolist() for o in torch_out])\n",
    "\n",
    "  # Serialize data into file:\n",
    "  json.dump(data, open(f\"test_inputs/input_{i}.json\", 'w'))\n"
   ]
  },
  {
   "cell_type": "code",
   "execution_count": null,
   "metadata": {},
   "outputs": [],
   "source": []
  }
 ],
 "metadata": {
  "kernelspec": {
   "display_name": ".venv",
   "language": "python",
   "name": "python3"
  },
  "language_info": {
   "codemirror_mode": {
    "name": "ipython",
    "version": 3
   },
   "file_extension": ".py",
   "mimetype": "text/x-python",
   "name": "python",
   "nbconvert_exporter": "python",
   "pygments_lexer": "ipython3",
   "version": "3.10.12"
  },
  "orig_nbformat": 4
 },
 "nbformat": 4,
 "nbformat_minor": 2
}
